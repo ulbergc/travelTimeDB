{
 "cells": [
  {
   "cell_type": "markdown",
   "metadata": {},
   "source": [
    "# This version tries to use almost all SQL (besides python wrapper)"
   ]
  },
  {
   "cell_type": "code",
   "execution_count": 1,
   "metadata": {},
   "outputs": [],
   "source": [
    "import pandas as pd\n",
    "import numpy as np\n",
    "from sqlalchemy import create_engine\n",
    "\n",
    "# define the directory that has the struct3dp data files\n",
    "modelname='Run_230'\n",
    "rundir='/Users/ulberg/research/MSH/crosson/Runs'\n",
    "datadir='{}/{}/Data'.format(rundir,modelname)\n",
    "\n",
    "# These file names are always associated with an inversion\n",
    "stafile='combined.sta' # the stations that recorded travel times\n",
    "eqobsfile='quakes.obs' # the travel time observations for earthquakes\n",
    "eqlocfile='quakes.loc' # the locations of earthquakes\n",
    "exobsfile='explos.obs' # the travel time observations for explosions\n",
    "exlocfile='explos.loc' # the locations of explosions\n",
    "\n",
    "# read into dataframes\n",
    "sta_df=pd.read_csv(datadir + '/' + stafile, names=['Station','Longitude','Latitude','Depth'], sep=' ', skipinitialspace=True)\n",
    "obs_eq_df=pd.read_csv(datadir + '/' + eqobsfile, names=['SourceID','Station','Phase','ArrivalTime','Uncertainty'], sep=' ', skipinitialspace=True)\n",
    "loc_eq_df=pd.read_csv(datadir + '/' + eqlocfile, names=['SourceID','Longitude','Latitude','Depth','EventTime'], sep=' ', skipinitialspace=True)\n",
    "obs_ex_df=pd.read_csv(datadir + '/' + exobsfile, names=['SourceID','Station','Phase','ArrivalTime','Uncertainty'], sep=' ', skipinitialspace=True)\n",
    "loc_ex_df=pd.read_csv(datadir + '/' + exlocfile, names=['SourceID','Longitude','Latitude','Depth','EventTime'], sep=' ', skipinitialspace=True)\n",
    "\n",
    "# read in more files that provide some mapping between other files\n",
    "mapfile='map.map'\n",
    "antUWfile='AntUWreview.txt'\n",
    "\n",
    "mapcols=['dbname','orid','SourceID','method','Longitude-ant','Latitude-ant','Depth-ant','FullTime']\n",
    "antUWcols=['PNSNid','dbname','orid','picker','Latitude-uw','Longitude-uw','Depth-uw']\n",
    "\n",
    "datamap_df=pd.read_csv(datadir + '/' + mapfile, names=mapcols, sep=' ', skipinitialspace=True)\n",
    "antUW_df=pd.read_csv('{}/{}/ANT/{}'.format(rundir,modelname,antUWfile), names=antUWcols, sep=' ', skipinitialspace=True, dtype={'orid': str})"
   ]
  },
  {
   "cell_type": "code",
   "execution_count": 4,
   "metadata": {},
   "outputs": [
    {
     "name": "stdout",
     "output_type": "stream",
     "text": [
      "datamap\n",
      "  dbname orid  SourceID      method  Longitude-ant  Latitude-ant  Depth-ant  \\\n",
      "0  SHOTS  151  8000151p  shots2s3dp     -121.55266      46.71370     -0.668   \n",
      "1  SHOTS  152  8000152p  shots2s3dp     -121.77356      46.20077     -1.029   \n",
      "2  SHOTS  155  8000155p  shots2s3dp     -121.99266      46.18471     -1.009   \n",
      "3  SHOTS  156  8000156p  shots2s3dp     -122.44470      46.04884     -0.834   \n",
      "4  SHOTS  164  8000164p  shots2s3dp     -122.13281      46.08131     -0.594   \n",
      "\n",
      "              FullTime  \n",
      "0  20140724T113500.020  \n",
      "1  20140725T050000.020  \n",
      "2  20140725T072000.020  \n",
      "3  20140725T073500.020  \n",
      "4  20140725T085000.020  \n",
      "antUW\n",
      "     PNSNid   dbname  orid picker  Latitude-uw  Longitude-uw  Depth-uw\n",
      "0  60810532  2014_Q3     2   Carl      46.5397     -122.9978       0.0\n",
      "1  60810642  2014_Q3  1394   Carl      45.8663     -122.4492       0.0\n",
      "2  60058633  2014_Q3  1395   Carl      45.5633     -122.6557      15.9\n",
      "3  60814162  2014_Q3  1396   Carl      46.1728     -122.4225       0.0\n",
      "4         0  2014_Q3  1401   Carl      46.3526     -122.4558       1.4\n"
     ]
    }
   ],
   "source": [
    "print('datamap_df')\n",
    "print(datamap_df.head())\n",
    "print('antUW_df')\n",
    "print(antUW_df.head())"
   ]
  },
  {
   "cell_type": "code",
   "execution_count": 2,
   "metadata": {},
   "outputs": [],
   "source": [
    "### add data to sqlite database\n",
    "\n",
    "dbdir='/Users/ulberg/Documents/GitHub/travelTimeDB/DB' # make sure this directory is created before running\n",
    "filename=dbdir + '/tt_db_sql2.sqlite'\n",
    "\n",
    "# create engine\n",
    "engine=create_engine('sqlite:///' + filename)\n",
    "\n",
    "### create tables in 'raw' state (with '_r'), with all columns\n",
    "### will work on these in sql to create the final tables\n",
    "# add station table\n",
    "sta_df.to_sql('sta_r', con=engine, if_exists='replace', index=False) # convert dataframe to sqlite db, replace old version (DANGEROUS)\n",
    "obs_eq_df.to_sql('obs_r', con=engine, if_exists='replace', index=False)\n",
    "loc_eq_df.to_sql('loc_r', con=engine, if_exists='replace', index=False)\n",
    "datamap_df.to_sql('map_r', con=engine, if_exists='replace', index=False)\n",
    "antUW_df.to_sql('antUW_r', con=engine, if_exists='replace', index=False)\n"
   ]
  },
  {
   "cell_type": "markdown",
   "metadata": {},
   "source": [
    "# Now start manipulating tables to get final usable products\n",
    "Do commands with 'engine.execute(\"sqlCommand\")'  \n",
    "example: engine.execute(\"SELECT * FROM station\") or engine.execute(\"PRAGMA table_info('station')\")  \n",
    "\n",
    "Or use sqlite3 terminal command window\n",
    "\n",
    "### Final tables wanted {tablename: columnnames}\n",
    "{station: ['Station','Longitude','Latitude','Depth']}  \n",
    "{observation: ['SourceID','Station','Phase','Uncertainty','FullArrivalTime','ArrivalTime']}  \n",
    "{event: ['SourceID','Longitude','Latitude','Depth','PNSNid','Longitude-uw','Latitude-uw','Depth-uw','FullTime','EventTime']}\n",
    "\n",
    "### Current tables {tablename:columnnames}\n",
    "{sta_r: ['Station', 'Longitude', 'Latitude', 'Depth']} # already done with this one (becomes station table)!!!  \n",
    "{obs_r: ['SourceID', 'Station', 'Phase', 'ArrivalTime', 'Uncertainty']} # need to add FullArrivalTime, then it will be observation table  \n",
    "{loc_r: ['SourceID', 'Longitude', 'Latitude', 'Depth', 'EventTime']} # this will become event, need to add locations and id from antUW_r, and FullTime from map_r  \n",
    "{map_r: ['dbname', 'orid', 'SourceID', 'method', 'Longitude-ant', 'Latitude-ant', 'Depth-ant', 'FullTime']}  \n",
    "{antUW_r: ['PNSNid', 'dbname', 'orid', 'picker', 'Latitude-uw', 'Longitude-uw', 'Depth-uw']}"
   ]
  },
  {
   "cell_type": "code",
   "execution_count": 19,
   "metadata": {},
   "outputs": [
    {
     "data": {
      "text/plain": [
       "[('sta_r',), ('obs_r',), ('loc_r',), ('map_r',), ('antUW_r',)]"
      ]
     },
     "execution_count": 19,
     "metadata": {},
     "output_type": "execute_result"
    }
   ],
   "source": [
    "# check all the names of the tables\n",
    "engine.execute(\"SELECT name FROM sqlite_master WHERE type='table' AND name NOT LIKE 'sqlite_%'\").fetchall()"
   ]
  },
  {
   "cell_type": "code",
   "execution_count": 34,
   "metadata": {},
   "outputs": [
    {
     "data": {
      "text/plain": [
       "[('MB05', -122.28102, 46.620870000000004, -0.6409999999999999),\n",
       " ('MB07', -122.04239, 46.62378, -0.878),\n",
       " ('MC06', -122.1572, 46.55202, -0.77),\n",
       " ('MC08', -121.96321999999999, 46.55335, -0.653),\n",
       " ('MD05', -122.27816999999999, 46.52316, -0.718),\n",
       " ('MD09', -121.70671000000002, 46.50288, -0.9590000000000001),\n",
       " ('MD12', -121.22067, 46.47694, -1.496),\n",
       " ('ME02', -122.70733999999999, 46.43916, -0.158),\n",
       " ('ME03', -122.57647, 46.45207, -0.31),\n",
       " ('ME04', -122.35193999999998, 46.45061, -0.73)]"
      ]
     },
     "execution_count": 34,
     "metadata": {},
     "output_type": "execute_result"
    }
   ],
   "source": [
    "# look at the first few rows of a given table\n",
    "tablename='sta_r'\n",
    "engine.execute(\"SELECT * FROM {} limit 10\".format(tablename)).fetchall()\n"
   ]
  },
  {
   "cell_type": "code",
   "execution_count": 36,
   "metadata": {},
   "outputs": [
    {
     "data": {
      "text/plain": [
       "['PNSNid',\n",
       " 'dbname',\n",
       " 'orid',\n",
       " 'picker',\n",
       " 'Latitude-uw',\n",
       " 'Longitude-uw',\n",
       " 'Depth-uw']"
      ]
     },
     "execution_count": 36,
     "metadata": {},
     "output_type": "execute_result"
    }
   ],
   "source": [
    "# check the column names of a given table\n",
    "tablename='antUW_r'\n",
    "out=engine.execute(\"PRAGMA table_info('{}')\".format(tablename)).fetchall()\n",
    "col=[x[1] for x in out]\n",
    "col"
   ]
  },
  {
   "cell_type": "markdown",
   "metadata": {},
   "source": [
    "## Create final station table\n",
    "> CREATE TABLE station AS  \n",
    "-- SELECT * FROM sta_r;"
   ]
  },
  {
   "cell_type": "markdown",
   "metadata": {},
   "source": [
    "# Start working on observation table\n",
    "Need to add FullArrivalTime to obs_r, then it will be observation table\n",
    "FullArrivalTime = map_r.FullTime + (obs_r.ArrivalTime - loc_r.EventTime) \n",
    "The indices for each of these don't necessarily match up, so need to use SourceID to match them, with left outer joins on the obs_r table"
   ]
  },
  {
   "cell_type": "markdown",
   "metadata": {},
   "source": [
    "## Commands to use\n",
    "\n",
    "### First attempts, looking at the data\n",
    "Create new table by joining some others using SourceID - this will have the wrong number of rows since map_r has duplicates\n",
    "> CREATE TABLE obs_r1 AS  \n",
    "-- SELECT obs_r.\\*, loc_r.EventTime, map_r.FullTime FROM obs_r  \n",
    "-- LEFT OUTER JOIN map_r USING(SourceID)  \n",
    "-- LEFT OUTER JOIN loc_r USING(SourceID);\n",
    "\n",
    "Check length of table\n",
    "> SELECT count(\\*) FROM obs_r1;\n",
    "\n",
    "Look at first few rows of table\n",
    "> SELECT \\* FROM obs_r1 limit 10;\n",
    "\n",
    "Issue with multiple records per SourceID in map_r, so\n",
    "First, show map_r rows with duplicate SourceID\n",
    "> SELECT m.\\* FROM map_r m INNER JOIN  \n",
    "-- (SELECT SourceID, COUNT(\\*) FROM map_r  \n",
    "-- GROUP BY SourceID HAVING COUNT(\\*) > 1 )  \n",
    "-- USING(SourceID) ORDER BY m.SourceID, m.method ASC limit 10;\n",
    "\n",
    "### Convert loc_r.FullTime to FullEventTime in correct sql time format\n",
    "First add FullTime from map_r\n",
    "> CREATE TABLE loc_r1 AS  \n",
    "SELECT loc_r.\\*, m.FullTime FROM loc_r  \n",
    "LEFT OUTER JOIN ( SELECT DISTINCT SourceID, FullTime FROM map_r ORDER BY SourceID) m USING(SourceID);\n",
    "\n",
    "Now convert FullTime to correct format\n",
    "> CREATE TABLE loc_r2 AS  \n",
    "SELECT SourceID,Longitude,Latitude,Depth,EventTime,substr(FullTime,1,4) || '-' || substr(FullTime,5,2) || '-' || substr(FullTime,7,5) || ':' || substr(FullTime,12,2) || ':' || substr(FullTime,14) AS FullEventTime FROM loc_r1;\n",
    "\n",
    "### Add stuff to new observation table\n",
    "#### Previous versions that needed map_r because  loc_r hadn't been updated yet\n",
    "This will just use one match of SourceID from map_r (possible because the FullTime will also be a duplicate)\n",
    "> CREATE TABLE obs_r1 AS  \n",
    "-- SELECT obs_r.\\*, m.FullTime FROM obs_r  \n",
    "-- LEFT OUTER JOIN ( SELECT DISTINCT SourceID, FullTime FROM map_r ORDER BY SourceID) m USING(SourceID);\n",
    "\n",
    "Add in the loc_r info to the previous command\n",
    "> CREATE TABLE obs_r1 AS  \n",
    "-- SELECT obs_r.\\*, m.FullTime, loc_r.EventTime FROM obs_r  \n",
    "-- LEFT OUTER JOIN ( SELECT DISTINCT SourceID, FullTime FROM map_r ORDER BY SourceID) m USING(SourceID)  \n",
    "-- LEFT OUTER JOIN loc_r USING(SourceID);\n",
    "\n",
    "#### New version since loc_r has been updated to loc_r2\n",
    "> CREATE TABLE obs_r1 AS  \n",
    "SELECT obs_r.\\*, loc_r2.EventTime, loc_r2.FullEventTime FROM obs_r  \n",
    "LEFT OUTER JOIN loc_r2 USING(SourceID);\n",
    "\n",
    "### Now need to make FullArrivalTime=FullTime + ArrivalTime - EventTime  \n",
    "> CREATE TABLE obs_r2 AS  \n",
    "-- SELECT SourceID,Station,Phase,ArrivalTime,Uncertainty,EventTime,FullEventTime,strftime('%Y-%m-%dT%H:%M:%f',FullEventTime,'-'||EventTime||' seconds','+'||ArrivalTime||' seconds') AS FullArrivalTime FROM obs_r1;"
   ]
  },
  {
   "cell_type": "markdown",
   "metadata": {},
   "source": [
    "## Make final observation table\n",
    "> CREATE TABLE observation AS  \n",
    "-- SELECT SourceID,Station,Phase,Uncertainty,FullArrivalTime FROM obs_r2;"
   ]
  },
  {
   "cell_type": "markdown",
   "metadata": {},
   "source": [
    "# Do event table\n",
    "To get:  \n",
    "{event: ['SourceID','Longitude','Latitude','Depth','PNSNid','Longitude-uw','Latitude-uw','Depth-uw','FullTime','EventTime']}  \n",
    "\n",
    "To start, already have:\n",
    "{loc_r: ['SourceID', 'Longitude', 'Latitude', 'Depth', 'EventTime']}\n",
    "\n",
    "Need fields from:\n",
    "{antUW_r: ['PNSNid', 'dbname', 'orid', 'picker', 'Latitude-uw', 'Longitude-uw', 'Depth-uw']}  \n",
    "{map_r: ['dbname', 'orid', 'SourceID', 'method', 'Longitude-ant', 'Latitude-ant', 'Depth-ant', 'FullTime']}\n",
    "\n",
    "Do outer join using SourceID for loc_r, map_r to get FullTime (actually already done above)  \n",
    "To get PNSNid from ant_UW_r, need to construct the SourceID from dbname and orid, then do outer join with loc_r (also to get locations)"
   ]
  },
  {
   "cell_type": "markdown",
   "metadata": {},
   "source": [
    "## Commands to use\n",
    "### First need to convert dbname and orid to SourceID in antUW_r\n",
    "This will work correctly for the Antelope sources, but not for the PNSN sources\n",
    "> SELECT substr(dbname,4,1)||substr(dbname,7,1)||'0'||printf(\"%04d\",orid)||'p' AS id1 FROM antUW_r;\n",
    "\n",
    "Could try joining from the map, first into antUW_r\n",
    "> CREATE TABLE antUW_r1 AS  \n",
    "-- SELECT a.\\*, m.SourceID FROM antUW_r a  \n",
    "-- LEFT OUTER JOIN map_r m USING(dbname,orid);\n",
    "\n",
    "### Now join the antUW information with loc_r2\n",
    "> CREATE TABLE loc_r3 AS  \n",
    "-- SELECT l.\\*, a.PNSNid, a.\"Longitude-uw\", a.\"Latitude-uw\", a.\"Depth-uw\" FROM loc_r2 l  \n",
    "-- LEFT OUTER JOIN antUW_r1 a USING(SourceID);\n",
    "\n",
    "## Make final event location table\n",
    "> CREATE TABLE event AS  \n",
    "-- SELECT SourceID,PNSNid,Longitude,Latitude,Depth,FullEventTime,\"Longitude-uw\",\"Latitude-uw\",\"Depth-uw\" FROM loc_r3;"
   ]
  },
  {
   "cell_type": "code",
   "execution_count": null,
   "metadata": {},
   "outputs": [],
   "source": []
  }
 ],
 "metadata": {
  "kernelspec": {
   "display_name": "Python 3",
   "language": "python",
   "name": "python3"
  },
  "language_info": {
   "codemirror_mode": {
    "name": "ipython",
    "version": 3
   },
   "file_extension": ".py",
   "mimetype": "text/x-python",
   "name": "python",
   "nbconvert_exporter": "python",
   "pygments_lexer": "ipython3",
   "version": "3.6.5"
  }
 },
 "nbformat": 4,
 "nbformat_minor": 2
}
